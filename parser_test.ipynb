{
 "cells": [
  {
   "cell_type": "markdown",
   "id": "2e64cfbf-3fd0-43d0-93e6-74781272d812",
   "metadata": {},
   "source": [
    "# Цель"
   ]
  },
  {
   "cell_type": "markdown",
   "id": "4df2e134-b5b1-4c56-aabc-9d4bd65f2079",
   "metadata": {},
   "source": [
    "Распарсить страницу с информацией о новостройках Москвы, выбрать для анализа только однокомнатные квартиры"
   ]
  },
  {
   "cell_type": "markdown",
   "id": "6726e828-7375-47fe-90bc-d395cbccc60d",
   "metadata": {},
   "source": [
    "# Импортируем необходимые модули"
   ]
  },
  {
   "cell_type": "code",
   "execution_count": 1,
   "id": "a1e765ba-8b65-41bf-838c-a868d5a34603",
   "metadata": {},
   "outputs": [],
   "source": [
    "from bs4 import BeautifulSoup as soup\n",
    "import re\n",
    "import requests\n",
    "import pandas as pd"
   ]
  },
  {
   "cell_type": "markdown",
   "id": "1a84bc75-f651-4076-9d02-62bdb8f72a57",
   "metadata": {},
   "source": [
    "# Анализ Web страницы для парсинга"
   ]
  },
  {
   "cell_type": "markdown",
   "id": "9ae201b7-80c6-4ed7-ae8b-423982112995",
   "metadata": {},
   "source": [
    "Создаем переменную со ссылкой на интернет ресурс, который будем парсить"
   ]
  },
  {
   "cell_type": "code",
   "execution_count": 2,
   "id": "1131fde3-a14b-4c57-a938-bec9581b5871",
   "metadata": {},
   "outputs": [],
   "source": [
    "url = 'https://vsenovostroyki.ru'"
   ]
  },
  {
   "cell_type": "markdown",
   "id": "31047ef7-2480-4baa-94cb-6fccda1efe15",
   "metadata": {},
   "source": [
    "Данные по новостройкам размещены - /новостройки-москвы, данные разбиты на страницы - /?p-, ?p-3'"
   ]
  },
  {
   "cell_type": "code",
   "execution_count": 3,
   "id": "6840f2d1-aa04-4828-9e7e-1261c63a76bf",
   "metadata": {},
   "outputs": [],
   "source": [
    "def receive_page (num_of_page):\n",
    "    page_url = '/новостройки-москвы'\n",
    "    if num_of_page == 1:   \n",
    "        page = url + page_url\n",
    "    else:\n",
    "        page = url + page_url + '/?p-' + str(num_of_page)\n",
    "    return page"
   ]
  },
  {
   "cell_type": "code",
   "execution_count": 4,
   "id": "17e9cd75-df8b-491e-903b-482a7bdbec0d",
   "metadata": {},
   "outputs": [
    {
     "data": {
      "text/plain": [
       "'https://vsenovostroyki.ru/новостройки-москвы'"
      ]
     },
     "execution_count": 4,
     "metadata": {},
     "output_type": "execute_result"
    }
   ],
   "source": [
    "page_1 = receive_page(1)\n",
    "page_1"
   ]
  },
  {
   "cell_type": "code",
   "execution_count": 5,
   "id": "8f7a7ef9-6472-4dcf-a83c-a806105cadbc",
   "metadata": {},
   "outputs": [
    {
     "data": {
      "text/plain": [
       "'https://vsenovostroyki.ru/новостройки-москвы/?p-2'"
      ]
     },
     "execution_count": 5,
     "metadata": {},
     "output_type": "execute_result"
    }
   ],
   "source": [
    "receive_page(2)"
   ]
  },
  {
   "cell_type": "markdown",
   "id": "a3647960-49d5-432c-9711-eba013db8749",
   "metadata": {},
   "source": [
    "Получаем содержимое одной страницы"
   ]
  },
  {
   "cell_type": "code",
   "execution_count": 6,
   "id": "44d31244-f8ef-49d0-9d9e-62c13aa68e94",
   "metadata": {},
   "outputs": [],
   "source": [
    "page_content = requests.get(page_1).text"
   ]
  },
  {
   "cell_type": "code",
   "execution_count": 7,
   "id": "066919de-8d78-4e52-ad2d-af9a1902a0f0",
   "metadata": {},
   "outputs": [],
   "source": [
    "page_content_soup = soup(page_content, 'html.parser')"
   ]
  },
  {
   "cell_type": "markdown",
   "id": "aa3b3073-e763-402f-b033-d0105c7ad7d4",
   "metadata": {},
   "source": [
    "Смотрим с помощью браузера тэги, для получения содержимого одного объявления, ищем данные тэги на странице и сохраняем\n",
    "содержимое в переменную"
   ]
  },
  {
   "cell_type": "code",
   "execution_count": 8,
   "id": "20c6fbd6-bd71-49ed-85df-9e9c0196e78c",
   "metadata": {},
   "outputs": [],
   "source": [
    "announcements = page_content_soup.find_all('div', {'class': 'b-offer-plate__plate'})"
   ]
  },
  {
   "cell_type": "markdown",
   "id": "a4aa796a-b667-4366-b4a2-a1aa2cfcf5ef",
   "metadata": {},
   "source": [
    "Количество объявлений на странице"
   ]
  },
  {
   "cell_type": "code",
   "execution_count": 9,
   "id": "a8582c73-07da-4b6d-8572-993ffc25028e",
   "metadata": {},
   "outputs": [
    {
     "data": {
      "text/plain": [
       "25"
      ]
     },
     "execution_count": 9,
     "metadata": {},
     "output_type": "execute_result"
    }
   ],
   "source": [
    "len(announcements)"
   ]
  },
  {
   "cell_type": "markdown",
   "id": "cc0d01ce-f936-483b-90fa-6b212b4260b3",
   "metadata": {},
   "source": [
    "Смотрим содержимое одного объяления для поиска необходимой для извленчения информации"
   ]
  },
  {
   "cell_type": "code",
   "execution_count": 10,
   "id": "ba15840e-f6f8-4f32-8901-f9a8ddd27efa",
   "metadata": {},
   "outputs": [],
   "source": [
    "announcement = announcements[0]"
   ]
  },
  {
   "cell_type": "code",
   "execution_count": null,
   "id": "65445051-90ab-4983-b792-3219136c9d1b",
   "metadata": {},
   "outputs": [],
   "source": [
    "<div class=\"b-offer-plate__plate b-offer-plate__plate_orange\">\n",
    "<div class=\"b-offer-plate__main\">\n",
    "<div class=\"b-offer-plate__overview-section\">\n",
    "<div class=\"b-offer-plate__image-holder\">\n",
    "<a class=\"b-offer-plate__image-link\" data-event-id=\"Moved_card\" href=\"/%D0%BD%D0%BE%D0%B2%D0%BE%D1%81%D1%82%D1%80%D0%BE%D0%B9%D0%BA%D0%B8-%D0%BC%D0%BE%D1%81%D0%BA%D0%B2%D1%8B/%D0%B6%D0%BA-city-bay/\" target=\"_blank\">\n",
    "<img alt=\"ЖК City Bay\" class=\"b-offer-plate__image js-lazy\" data-src=\"/cache_img/img180x142/_upload_2021-08_1628576839_city-bay1.jpg\" role=\"presentation\" src=\"/templates/2018/static/default_thumbs/placeholder-180-142-zhk.png\" title=\"ЖК City Bay\"/>\n",
    "</a>\n",
    "<div class=\"b-offer-plate__labels\">\n",
    "<div class=\"b-offer-plate__label-item\">\n",
    "<div class=\"b-offer-plate__label u-recommend-label u-recommend-label_btn\">\n",
    "<svg class=\"u-recommend-label__icon u-icon_star-full u-icon\"><use xlink:href=\"/templates/2018/markup/assets/images/icons.svg#icon_star-full\"></use></svg> <div class=\"u-recommend-label__text\">\n",
    "                                            Рекомендуем\n",
    "                                        </div>\n",
    "</div>\n",
    "</div>\n",
    "</div>\n",
    "</div>\n",
    "<div class=\"b-offer-plate__overview\">\n",
    "<h2 class=\"b-offer-plate__title\">\n",
    "<a class=\"b-offer-plate__title-link\" data-event-id=\"Moved_card\" href=\"/%D0%BD%D0%BE%D0%B2%D0%BE%D1%81%D1%82%D1%80%D0%BE%D0%B9%D0%BA%D0%B8-%D0%BC%D0%BE%D1%81%D0%BA%D0%B2%D1%8B/%D0%B6%D0%BA-city-bay/\" target=\"_blank\">\n",
    "                                ЖК City Bay                            </a>\n",
    "</h2>\n",
    "<div class=\"b-offer-plate__additionals\">\n",
    "<div class=\"b-offer-plate__additional-line\">\n",
    "                                    м. Волоколамская, Мякинино, Тушинская                                </div>\n",
    "<div class=\"b-offer-plate__additional-line\">\n",
    "                                    Сдача 2024                                </div>\n",
    "</div>\n",
    "<div class=\"b-offer-plate__params\">\n",
    "<div class=\"b-params\">\n",
    "<div class=\"b-params__items\">\n",
    "<div class=\"b-params__item\">\n",
    "<div class=\"b-params__label\">\n",
    "                    1-комн.                                            от 38.8 м²\n",
    "                                    </div>\n",
    "<div class=\"b-params__line\"></div>\n",
    "<div class=\"b-params__value\">\n",
    "                    от 11,5 до 15,6 млн <span class=\"u-rub\">₽</span> </div>\n",
    "</div>\n",
    "<div class=\"b-params__item\">\n",
    "<div class=\"b-params__label\">\n",
    "                    2-комн.                                            от 57.1 м²\n",
    "                                    </div>\n",
    "<div class=\"b-params__line\"></div>\n",
    "<div class=\"b-params__value\">\n",
    "                    от 16,5 до 21,9 млн <span class=\"u-rub\">₽</span> </div>\n",
    "</div>\n",
    "<div class=\"b-params__item\">\n",
    "<div class=\"b-params__label\">\n",
    "                    3-комн.                                            от 73.6 м²\n",
    "                                    </div>\n",
    "<div class=\"b-params__line\"></div>\n",
    "<div class=\"b-params__value\">\n",
    "                    от 19,3 до 29,5 млн <span class=\"u-rub\">₽</span> </div>\n",
    "</div>\n",
    "<div class=\"b-params__item\">\n",
    "<div class=\"b-params__label\">\n",
    "                    4-комн.                                            от 107.8 м²\n",
    "                                    </div>\n",
    "<div class=\"b-params__line\"></div>\n",
    "<div class=\"b-params__value\">\n",
    "                    от 29,6 до 33,5 млн <span class=\"u-rub\">₽</span> </div>\n",
    "</div>\n",
    "<div class=\"b-params__item\">\n",
    "<div class=\"b-params__label\">\n",
    "                    Студия                                            от 25.8 м²\n",
    "                                    </div>\n",
    "<div class=\"b-params__line\"></div>\n",
    "<div class=\"b-params__value\">\n",
    "                    от 9,2 до 11,4 млн <span class=\"u-rub\">₽</span> </div>\n",
    "</div>\n",
    "</div>\n",
    "</div>\n",
    "</div>\n",
    "</div>\n",
    "</div>\n",
    "<div class=\"b-offer-plate__mobile-content\">\n",
    "<div class=\"b-offer-plate__params-expander\">\n",
    "<span class=\"b-offer-plate__expander-link js-collapser\" data-open-class=\"b-offer-plate__expander-link_open\">\n",
    "<span class=\"b-offer-plate__expander-text\">\n",
    "                                    Квартиры от 9,2 млн руб.\n",
    "                                </span>\n",
    "<svg class=\"b-offer-plate__expander-icon u-icon_angle u-icon\"><use xlink:href=\"/templates/2018/markup/assets/images/icons.svg#icon_angle\"></use></svg> </span>\n",
    "</div>\n",
    "<div class=\"u-collapser\">\n",
    "<div class=\"u-collapser__container\">\n",
    "<div class=\"b-offer-plate__mobile-params\">\n",
    "<div class=\"b-params\">\n",
    "<div class=\"b-params__items\">\n",
    "<div class=\"b-params__item\">\n",
    "<div class=\"b-params__label\">\n",
    "                    1-комн.                                            от 38.8 м²\n",
    "                                    </div>\n",
    "<div class=\"b-params__line\"></div>\n",
    "<div class=\"b-params__value\">\n",
    "                    от 11,5 до 15,6 млн <span class=\"u-rub\">₽</span> </div>\n",
    "</div>\n",
    "<div class=\"b-params__item\">\n",
    "<div class=\"b-params__label\">\n",
    "                    2-комн.                                            от 57.1 м²\n",
    "                                    </div>\n",
    "<div class=\"b-params__line\"></div>\n",
    "<div class=\"b-params__value\">\n",
    "                    от 16,5 до 21,9 млн <span class=\"u-rub\">₽</span> </div>\n",
    "</div>\n",
    "<div class=\"b-params__item\">\n",
    "<div class=\"b-params__label\">\n",
    "                    3-комн.                                            от 73.6 м²\n",
    "                                    </div>\n",
    "<div class=\"b-params__line\"></div>\n",
    "<div class=\"b-params__value\">\n",
    "                    от 19,3 до 29,5 млн <span class=\"u-rub\">₽</span> </div>\n",
    "</div>\n",
    "<div class=\"b-params__item\">\n",
    "<div class=\"b-params__label\">\n",
    "                    4-комн.                                            от 107.8 м²\n",
    "                                    </div>\n",
    "<div class=\"b-params__line\"></div>\n",
    "<div class=\"b-params__value\">\n",
    "                    от 29,6 до 33,5 млн <span class=\"u-rub\">₽</span> </div>\n",
    "</div>\n",
    "<div class=\"b-params__item\">\n",
    "<div class=\"b-params__label\">\n",
    "                    Студия                                            от 25.8 м²\n",
    "                                    </div>\n",
    "<div class=\"b-params__line\"></div>\n",
    "<div class=\"b-params__value\">\n",
    "                    от 9,2 до 11,4 млн <span class=\"u-rub\">₽</span> </div>\n",
    "</div>\n",
    "</div>\n",
    "</div>\n",
    "</div>\n",
    "</div>\n",
    "</div>\n",
    "</div>\n",
    "<div class=\"b-offer-plate__description-section\">\n",
    "<div class=\"b-offer-plate__description b-offer-plate__description_overflow\">\n",
    "                            \n",
    "\tЖить в городе и наслаждаться природой…Именно этим лозунгом можно было бы сопровождать продажи недвижимости в ЖК City Bay. Это новый комплекс бизнес-класса от MR GROUP, расположенный на берегу Москвы реки.\n",
    "\n",
    "\t\n",
    "\n",
    "\tНовостройка располагает полноценной инфраструктурой, собственной благоустроенной набережной. Ее элегантная архитектура привлекает внимание эстетов, да и попросту ценителей                            <a class=\"b-offer-plate__more-link\" data-event-id=\"Moved_card\" href=\"/%D0%BD%D0%BE%D0%B2%D0%BE%D1%81%D1%82%D1%80%D0%BE%D0%B9%D0%BA%D0%B8-%D0%BC%D0%BE%D1%81%D0%BA%D0%B2%D1%8B/%D0%B6%D0%BA-city-bay/\" target=\"_blank\">\n",
    "                                далее\n",
    "                            </a>\n",
    "<a class=\"b-offer-plate__mobile-link\" data-event-id=\"Moved_card\" href=\"/%D0%BD%D0%BE%D0%B2%D0%BE%D1%81%D1%82%D1%80%D0%BE%D0%B9%D0%BA%D0%B8-%D0%BC%D0%BE%D1%81%D0%BA%D0%B2%D1%8B/%D0%B6%D0%BA-city-bay/\" target=\"_blank\"></a>\n",
    "</div>\n",
    "</div>\n",
    "</div>\n",
    "<div class=\"b-offer-plate__footer\">\n",
    "<div class=\"b-offer-plate__footer-left\">\n",
    "<div class=\"b-offer-plate__footer-left-item\">\n",
    "<a class=\"b-offer-plate__feedbacks-link\" href=\"/%D0%BD%D0%BE%D0%B2%D0%BE%D1%81%D1%82%D1%80%D0%BE%D0%B9%D0%BA%D0%B8-%D0%BC%D0%BE%D1%81%D0%BA%D0%B2%D1%8B/%D0%B6%D0%BA-city-bay/#comments-anchor\" target=\"_blank\">\n",
    "<span class=\"u-iconic-link\">\n",
    "<svg class=\"u-iconic-link__icon u-icon_comments u-icon\"><use xlink:href=\"/templates/2018/markup/assets/images/icons.svg#icon_comments\"></use></svg> <span class=\"u-iconic-link__text\">\n",
    "                                    1                                    отзыв                                </span>\n",
    "</span>\n",
    "</a>\n",
    "</div>\n",
    "</div>\n",
    "<div class=\"b-offer-plate__footer-right b-offer-plate__footer-right_phone\">\n",
    "<div class=\"b-offer-plate__footer-right-item b-offer-plate__footer-right-item_sales\">\n",
    "<div class=\"u-iconic-link\">\n",
    "<svg class=\"u-iconic-link__icon u-icon_phone u-icon\"><use xlink:href=\"/templates/2018/markup/assets/images/icons.svg#icon_phone\"></use></svg> <span class=\"u-iconic-link__text\">\n",
    "                                    Отдел продаж\n",
    "                                </span>\n",
    "</div>\n",
    "</div>\n",
    "<div class=\"b-offer-plate__footer-right-item\">\n",
    "<a class=\"b-offer-plate__call-btn u-btn u-btn_red js-phone-switcher\" data-event-id=\"msk_Show_ phone\" data-full-phone=\"+7 (495) 106-31-08\" href=\"/%D0%BD%D0%BE%D0%B2%D0%BE%D1%81%D1%82%D1%80%D0%BE%D0%B9%D0%BA%D0%B8-%D0%BC%D0%BE%D1%81%D0%BA%D0%B2%D1%8B/%D0%B6%D0%BA-city-bay/#newton-open\" target=\"_blank\">\n",
    "<span>\n",
    "                                    +7 (495) 106-XX-XX                                </span>\n",
    "</a>\n",
    "<a class=\"b-offer-plate__call-btn b-offer-plate__call-btn_mobile u-btn u-btn_red js-phone-switcher\" data-full-phone=\"+7 (495) 106-31-08\" href=\"tel:+7 (495) 106-31-08\">\n",
    "<span>+7 (495) 106-XX-XX</span>\n",
    "</a>\n",
    "</div>\n",
    "</div>\n",
    "</div>\n",
    "</div>\n",
    "​"
   ]
  },
  {
   "cell_type": "markdown",
   "id": "b6f6e705-08b6-46c3-90fb-9fc42a5695f0",
   "metadata": {},
   "source": [
    "Получаем название ЖК"
   ]
  },
  {
   "cell_type": "code",
   "execution_count": 11,
   "id": "e4751bd7-dd44-4ef4-a67e-c6ad6ae13d70",
   "metadata": {},
   "outputs": [
    {
     "data": {
      "text/plain": [
       "'ЖК City Bay'"
      ]
     },
     "execution_count": 11,
     "metadata": {},
     "output_type": "execute_result"
    }
   ],
   "source": [
    "name = announcement.a.img['title']\n",
    "name"
   ]
  },
  {
   "cell_type": "markdown",
   "id": "d0965dbc-265a-4efe-b308-35b2d28feae1",
   "metadata": {},
   "source": [
    "Получаем данные о месторасположении"
   ]
  },
  {
   "cell_type": "code",
   "execution_count": 12,
   "id": "c4032db5-fb06-48b1-bdaa-ea0e143ab648",
   "metadata": {},
   "outputs": [
    {
     "data": {
      "text/plain": [
       "'м. Волоколамская, Мякинино, Тушинская'"
      ]
     },
     "execution_count": 12,
     "metadata": {},
     "output_type": "execute_result"
    }
   ],
   "source": [
    "underground= announcement.find_all('div', {'class': 'b-offer-plate__additional-line'})[0].text.strip()\n",
    "underground"
   ]
  },
  {
   "cell_type": "markdown",
   "id": "e9745b3a-0fae-4487-ab6d-0b3016621503",
   "metadata": {},
   "source": [
    "Получаем срок сдачи"
   ]
  },
  {
   "cell_type": "code",
   "execution_count": 13,
   "id": "b1bbfa2d-6a25-469a-8321-b108176ae3a7",
   "metadata": {},
   "outputs": [
    {
     "data": {
      "text/plain": [
       "'2024'"
      ]
     },
     "execution_count": 13,
     "metadata": {},
     "output_type": "execute_result"
    }
   ],
   "source": [
    "terms= announcement.find_all('div', {'class': 'b-offer-plate__additional-line'})[1].text.strip()[6:11]\n",
    "terms"
   ]
  },
  {
   "cell_type": "markdown",
   "id": "33ceb40c-6224-4e56-910d-f363691bd8a1",
   "metadata": {},
   "source": [
    "Получаем однокомнатные квартиры"
   ]
  },
  {
   "cell_type": "code",
   "execution_count": 14,
   "id": "55ae1b24-7758-412d-965b-ae10ffeb1f57",
   "metadata": {},
   "outputs": [
    {
     "data": {
      "text/plain": [
       "'1'"
      ]
     },
     "execution_count": 14,
     "metadata": {},
     "output_type": "execute_result"
    }
   ],
   "source": [
    "one_room_flat = announcement.find_all('div', {'class': 'b-params__label'})[0].text.lstrip().rstrip().split(' ')[0][0]\n",
    "one_room_flat"
   ]
  },
  {
   "cell_type": "markdown",
   "id": "6df42e7f-12bf-4600-927c-1ab1982308a7",
   "metadata": {},
   "source": [
    "Получаем метраж"
   ]
  },
  {
   "cell_type": "code",
   "execution_count": 15,
   "id": "c7b721ea-45b5-4295-aa11-0093ae45a020",
   "metadata": {},
   "outputs": [
    {
     "data": {
      "text/plain": [
       "'38.8'"
      ]
     },
     "execution_count": 15,
     "metadata": {},
     "output_type": "execute_result"
    }
   ],
   "source": [
    "square = announcement.find_all('div', {'class': 'b-params__label'})[0].text.lstrip().rstrip().split(' ')[-2]\n",
    "square"
   ]
  },
  {
   "cell_type": "markdown",
   "id": "b93be69f-63a3-4a3e-9016-11432ace98be",
   "metadata": {},
   "source": [
    "Получаем цену от"
   ]
  },
  {
   "cell_type": "code",
   "execution_count": 16,
   "id": "12fd9dd5-3864-4fe8-981b-89d2a9cdc165",
   "metadata": {},
   "outputs": [
    {
     "data": {
      "text/plain": [
       "''"
      ]
     },
     "execution_count": 16,
     "metadata": {},
     "output_type": "execute_result"
    }
   ],
   "source": [
    "def extract_price(text, index):\n",
    "    pattern = r'\\d+[.,]\\d+'\n",
    "    prices = text.find_all('div', {'class': 'b-params__value'})[0].text.lstrip()\n",
    "    matches = re.findall(pattern, prices)\n",
    "    if index == 0:\n",
    "        if len(matches) == 1:\n",
    "            price = matches[index].replace(',', '.')\n",
    "        else:\n",
    "            price = ''\n",
    "    else:\n",
    "        if len(matches) == 2:\n",
    "            price = matches[index].replace(',', '.')\n",
    "        else:\n",
    "            price = ''\n",
    "    return price\n",
    "extract_price(announcement, 0)"
   ]
  },
  {
   "cell_type": "markdown",
   "id": "5ebbdbec-bfed-452d-9847-59fa377ddc44",
   "metadata": {},
   "source": [
    "Получаем цену до"
   ]
  },
  {
   "cell_type": "code",
   "execution_count": 17,
   "id": "1dca2349-5e6b-4631-b804-ef3055e3318d",
   "metadata": {},
   "outputs": [
    {
     "data": {
      "text/plain": [
       "'15.6'"
      ]
     },
     "execution_count": 17,
     "metadata": {},
     "output_type": "execute_result"
    }
   ],
   "source": [
    "extract_price(announcement, 1)"
   ]
  },
  {
   "cell_type": "markdown",
   "id": "07e73a35-0103-4a48-92e4-26de2c63ad05",
   "metadata": {},
   "source": [
    "# Создаем файл для сохранения данных"
   ]
  },
  {
   "cell_type": "markdown",
   "id": "a6b3f055-7276-4ff0-8411-54a9c9a020f6",
   "metadata": {},
   "source": [
    "Создаем CSV файл для записи данных"
   ]
  },
  {
   "cell_type": "code",
   "execution_count": 18,
   "id": "48a53f90-ccf1-4a02-b9bc-40524c89e221",
   "metadata": {},
   "outputs": [],
   "source": [
    "file_name = 'flats.csv'\n",
    "headers = 'ЖК, Метро, Срок сдачи, Количество комнат, Площадь (кв.м), Цена от (млн. руб), Цена до (млн. руб)\\n'\n",
    "\n",
    "with open('flats.csv', 'w') as f:\n",
    "    f.write(headers)"
   ]
  },
  {
   "cell_type": "markdown",
   "id": "69629391-baad-429c-b33b-f21301999f7a",
   "metadata": {},
   "source": [
    "# Парсинг"
   ]
  },
  {
   "cell_type": "markdown",
   "id": "b29d63c9-7a32-4ab2-913d-5c84867593f6",
   "metadata": {},
   "source": [
    "Цикл для парсинга всех объявлений. Будем парсить 10 страниц, поэтому задаем диапазон от 1 до 11 (не включительно)"
   ]
  },
  {
   "cell_type": "code",
   "execution_count": 19,
   "id": "efe2b73e-a7f9-4d22-bd6c-f7faa8d5eb1d",
   "metadata": {},
   "outputs": [],
   "source": [
    "for num in range(1, 11):\n",
    "    \n",
    "    page = receive_page(num)\n",
    "    page_content = requests.get(page).text\n",
    "    page_content_soup = soup(page_content, 'html.parser')\n",
    "    announcements = page_content_soup.find_all('div', {'class': 'b-offer-plate__plate'})\n",
    "\n",
    "    for announcement in announcements:\n",
    "        name = announcement.a.img['title']\n",
    "        underground= announcement.find_all('div', {'class': 'b-offer-plate__additional-line'})[0].text.strip()\n",
    "        terms= announcement.find_all('div', {'class': 'b-offer-plate__additional-line'})[1].text.strip()[6:11]\n",
    "        one_room_flat = announcement.find_all('div', {'class': 'b-params__label'})[0].text.lstrip().rstrip().split(' ')[0][0]\n",
    "        square = announcement.find_all('div', {'class': 'b-params__label'})[0].text.lstrip().rstrip().split(' ')[-2]\n",
    "        price_begin = extract_price(announcement, 0)\n",
    "        price_end = extract_price(announcement, 1)\n",
    "\n",
    "        if one_room_flat == '1':\n",
    "            with open('flats.csv', 'a') as f:\n",
    "                f.write(name + ','+ underground.replace(',', ';') + ',' + terms + ',' + one_room_flat + ',' + \n",
    "                        square + ',' + price_begin + ',' + price_end + \"\\n\")"
   ]
  },
  {
   "cell_type": "markdown",
   "id": "d7110f19-c46b-43d6-bcbe-5f7b784e384e",
   "metadata": {},
   "source": [
    "# Смотрим что получилось"
   ]
  },
  {
   "cell_type": "code",
   "execution_count": 20,
   "id": "4ffcae92-2f9b-4e68-9a23-54cc3e6df8dd",
   "metadata": {},
   "outputs": [
    {
     "data": {
      "text/html": [
       "<div>\n",
       "<style scoped>\n",
       "    .dataframe tbody tr th:only-of-type {\n",
       "        vertical-align: middle;\n",
       "    }\n",
       "\n",
       "    .dataframe tbody tr th {\n",
       "        vertical-align: top;\n",
       "    }\n",
       "\n",
       "    .dataframe thead th {\n",
       "        text-align: right;\n",
       "    }\n",
       "</style>\n",
       "<table border=\"1\" class=\"dataframe\">\n",
       "  <thead>\n",
       "    <tr style=\"text-align: right;\">\n",
       "      <th></th>\n",
       "      <th>ЖК</th>\n",
       "      <th>Метро</th>\n",
       "      <th>Срок сдачи</th>\n",
       "      <th>Количество комнат</th>\n",
       "      <th>Площадь (кв.м)</th>\n",
       "      <th>Цена от (млн. руб)</th>\n",
       "      <th>Цена до (млн. руб)</th>\n",
       "    </tr>\n",
       "  </thead>\n",
       "  <tbody>\n",
       "    <tr>\n",
       "      <th>0</th>\n",
       "      <td>ЖК City Bay</td>\n",
       "      <td>м. Волоколамская; Мякинино; Тушинская</td>\n",
       "      <td>2024</td>\n",
       "      <td>1</td>\n",
       "      <td>38.8</td>\n",
       "      <td>NaN</td>\n",
       "      <td>15.6</td>\n",
       "    </tr>\n",
       "    <tr>\n",
       "      <th>1</th>\n",
       "      <td>ЖК Пресня Сити</td>\n",
       "      <td>м. Белорусская; Улица 1905 года</td>\n",
       "      <td>2018</td>\n",
       "      <td>1</td>\n",
       "      <td>44.8</td>\n",
       "      <td>NaN</td>\n",
       "      <td>19.1</td>\n",
       "    </tr>\n",
       "    <tr>\n",
       "      <th>2</th>\n",
       "      <td>Эко-квартал VERY</td>\n",
       "      <td>м. Владыкино; Петровско-Разумовская; Фонвизинская</td>\n",
       "      <td>2024</td>\n",
       "      <td>1</td>\n",
       "      <td>38.7</td>\n",
       "      <td>NaN</td>\n",
       "      <td>17.4</td>\n",
       "    </tr>\n",
       "    <tr>\n",
       "      <th>3</th>\n",
       "      <td>Новостройка HEADLINER (Центр-Сити)</td>\n",
       "      <td>м. Беговая; Выставочная; Фили; Шелепиха</td>\n",
       "      <td>2024</td>\n",
       "      <td>1</td>\n",
       "      <td>29.5</td>\n",
       "      <td>NaN</td>\n",
       "      <td>21.9</td>\n",
       "    </tr>\n",
       "    <tr>\n",
       "      <th>4</th>\n",
       "      <td>Квартал iLove</td>\n",
       "      <td>м. Алексеевская; Бутырская; ВДНХ</td>\n",
       "      <td>2024</td>\n",
       "      <td>1</td>\n",
       "      <td>37.0</td>\n",
       "      <td>NaN</td>\n",
       "      <td>19.1</td>\n",
       "    </tr>\n",
       "    <tr>\n",
       "      <th>...</th>\n",
       "      <td>...</td>\n",
       "      <td>...</td>\n",
       "      <td>...</td>\n",
       "      <td>...</td>\n",
       "      <td>...</td>\n",
       "      <td>...</td>\n",
       "      <td>...</td>\n",
       "    </tr>\n",
       "    <tr>\n",
       "      <th>205</th>\n",
       "      <td>Апарт-отель «Резиденция «Сокольники»</td>\n",
       "      <td>м. Рижская; Сокольники</td>\n",
       "      <td>2022</td>\n",
       "      <td>1</td>\n",
       "      <td>41.1</td>\n",
       "      <td>12.1</td>\n",
       "      <td>NaN</td>\n",
       "    </tr>\n",
       "    <tr>\n",
       "      <th>206</th>\n",
       "      <td>ЖК MOD</td>\n",
       "      <td>м. Алексеевская; Марьина Роща; Рижская</td>\n",
       "      <td>2024</td>\n",
       "      <td>1</td>\n",
       "      <td>39.8</td>\n",
       "      <td>NaN</td>\n",
       "      <td>18.2</td>\n",
       "    </tr>\n",
       "    <tr>\n",
       "      <th>207</th>\n",
       "      <td>ЖК ONYX DELUXE (Оникс Делюкс)</td>\n",
       "      <td>м. Новые Черемушки</td>\n",
       "      <td>2020</td>\n",
       "      <td>1</td>\n",
       "      <td>43.0</td>\n",
       "      <td>18.7</td>\n",
       "      <td>NaN</td>\n",
       "    </tr>\n",
       "    <tr>\n",
       "      <th>208</th>\n",
       "      <td>ЖК Вестердам</td>\n",
       "      <td>м. Мичуринский проспект</td>\n",
       "      <td>2023</td>\n",
       "      <td>1</td>\n",
       "      <td>34.1</td>\n",
       "      <td>NaN</td>\n",
       "      <td>19.5</td>\n",
       "    </tr>\n",
       "    <tr>\n",
       "      <th>209</th>\n",
       "      <td>Дом «Достижение»</td>\n",
       "      <td>м. Бутырская; ВДНХ</td>\n",
       "      <td>2023</td>\n",
       "      <td>1</td>\n",
       "      <td>34.8</td>\n",
       "      <td>NaN</td>\n",
       "      <td>60.5</td>\n",
       "    </tr>\n",
       "  </tbody>\n",
       "</table>\n",
       "<p>210 rows × 7 columns</p>\n",
       "</div>"
      ],
      "text/plain": [
       "                                       ЖК  \\\n",
       "0                             ЖК City Bay   \n",
       "1                          ЖК Пресня Сити   \n",
       "2                        Эко-квартал VERY   \n",
       "3      Новостройка HEADLINER (Центр-Сити)   \n",
       "4                           Квартал iLove   \n",
       "..                                    ...   \n",
       "205  Апарт-отель «Резиденция «Сокольники»   \n",
       "206                                ЖК MOD   \n",
       "207         ЖК ONYX DELUXE (Оникс Делюкс)   \n",
       "208                          ЖК Вестердам   \n",
       "209                      Дом «Достижение»   \n",
       "\n",
       "                                                 Метро   Срок сдачи  \\\n",
       "0                м. Волоколамская; Мякинино; Тушинская         2024   \n",
       "1                      м. Белорусская; Улица 1905 года         2018   \n",
       "2    м. Владыкино; Петровско-Разумовская; Фонвизинская         2024   \n",
       "3              м. Беговая; Выставочная; Фили; Шелепиха         2024   \n",
       "4                     м. Алексеевская; Бутырская; ВДНХ         2024   \n",
       "..                                                 ...          ...   \n",
       "205                             м. Рижская; Сокольники         2022   \n",
       "206             м. Алексеевская; Марьина Роща; Рижская         2024   \n",
       "207                                 м. Новые Черемушки         2020   \n",
       "208                            м. Мичуринский проспект         2023   \n",
       "209                                 м. Бутырская; ВДНХ         2023   \n",
       "\n",
       "      Количество комнат   Площадь (кв.м)   Цена от (млн. руб)  \\\n",
       "0                     1             38.8                  NaN   \n",
       "1                     1             44.8                  NaN   \n",
       "2                     1             38.7                  NaN   \n",
       "3                     1             29.5                  NaN   \n",
       "4                     1             37.0                  NaN   \n",
       "..                  ...              ...                  ...   \n",
       "205                   1             41.1                 12.1   \n",
       "206                   1             39.8                  NaN   \n",
       "207                   1             43.0                 18.7   \n",
       "208                   1             34.1                  NaN   \n",
       "209                   1             34.8                  NaN   \n",
       "\n",
       "      Цена до (млн. руб)  \n",
       "0                   15.6  \n",
       "1                   19.1  \n",
       "2                   17.4  \n",
       "3                   21.9  \n",
       "4                   19.1  \n",
       "..                   ...  \n",
       "205                  NaN  \n",
       "206                 18.2  \n",
       "207                  NaN  \n",
       "208                 19.5  \n",
       "209                 60.5  \n",
       "\n",
       "[210 rows x 7 columns]"
      ]
     },
     "execution_count": 20,
     "metadata": {},
     "output_type": "execute_result"
    }
   ],
   "source": [
    "pd.read_csv('flats.csv')"
   ]
  }
 ],
 "metadata": {
  "kernelspec": {
   "display_name": "Python 3",
   "language": "python",
   "name": "python3"
  },
  "language_info": {
   "codemirror_mode": {
    "name": "ipython",
    "version": 3
   },
   "file_extension": ".py",
   "mimetype": "text/x-python",
   "name": "python",
   "nbconvert_exporter": "python",
   "pygments_lexer": "ipython3",
   "version": "3.8.8"
  }
 },
 "nbformat": 4,
 "nbformat_minor": 5
}
